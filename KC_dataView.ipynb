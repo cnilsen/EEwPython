{
  "nbformat": 4,
  "nbformat_minor": 0,
  "metadata": {
    "colab": {
      "name": "Copy of EE_Assets.ipynb",
      "provenance": []
    },
    "kernelspec": {
      "name": "python3",
      "display_name": "Python 3"
    }
  },
  "cells": [
    {
      "cell_type": "markdown",
      "metadata": {
        "id": "J6WQ7KpG6BGi",
        "colab_type": "text"
      },
      "source": [
        "## Initialize and Authenticate"
      ]
    },
    {
      "cell_type": "code",
      "metadata": {
        "id": "WK-fh25Q55BL",
        "colab_type": "code",
        "colab": {}
      },
      "source": [
        "!pip install geeadd #geeadd \n",
        "!pip install earthengine-api #earth-engine Python API\n"
      ],
      "execution_count": 0,
      "outputs": []
    },
    {
      "cell_type": "code",
      "metadata": {
        "id": "vW5AHOQJ7PIO",
        "colab_type": "code",
        "outputId": "d94af01f-bf26-463a-8181-2aefdc1d6ee2",
        "colab": {
          "base_uri": "https://localhost:8080/",
          "height": 785
        }
      },
      "source": [
        "!git clone https://github.com/tracek/gee_asset_manager\n",
        "!cd gee_asset_manager && pip install -e ."
      ],
      "execution_count": 0,
      "outputs": [
        {
          "output_type": "stream",
          "text": [
            "Cloning into 'gee_asset_manager'...\n",
            "remote: Enumerating objects: 496, done.\u001b[K\n",
            "remote: Total 496 (delta 0), reused 0 (delta 0), pack-reused 496\u001b[K\n",
            "Receiving objects: 100% (496/496), 125.35 KiB | 7.37 MiB/s, done.\n",
            "Resolving deltas: 100% (317/317), done.\n",
            "Obtaining file:///content/gee_asset_manager\n",
            "Requirement already satisfied: earthengine_api>=0.1.87 in /usr/local/lib/python3.6/dist-packages (from geebam==0.1.5) (0.1.202)\n",
            "Requirement already satisfied: requests>=2.10.0 in /usr/local/lib/python3.6/dist-packages (from geebam==0.1.5) (2.21.0)\n",
            "Requirement already satisfied: retrying>=1.3.3 in /usr/local/lib/python3.6/dist-packages (from geebam==0.1.5) (1.3.3)\n",
            "Requirement already satisfied: beautifulsoup4>=4.5.1 in /usr/local/lib/python3.6/dist-packages (from geebam==0.1.5) (4.8.1)\n",
            "Requirement already satisfied: requests_toolbelt>=0.7.0 in /usr/local/lib/python3.6/dist-packages (from geebam==0.1.5) (0.9.1)\n",
            "Requirement already satisfied: pytest>=3.0.0 in /usr/local/lib/python3.6/dist-packages (from geebam==0.1.5) (3.6.4)\n",
            "Requirement already satisfied: future>=0.16.0 in /usr/local/lib/python3.6/dist-packages (from geebam==0.1.5) (0.16.0)\n",
            "Requirement already satisfied: google-cloud-storage>=1.1.1 in /usr/local/lib/python3.6/dist-packages (from geebam==0.1.5) (1.16.2)\n",
            "Requirement already satisfied: google-api-python-client in /usr/local/lib/python3.6/dist-packages (from earthengine_api>=0.1.87->geebam==0.1.5) (1.7.11)\n",
            "Requirement already satisfied: google-auth>=1.4.1 in /usr/local/lib/python3.6/dist-packages (from earthengine_api>=0.1.87->geebam==0.1.5) (1.4.2)\n",
            "Requirement already satisfied: six in /usr/local/lib/python3.6/dist-packages (from earthengine_api>=0.1.87->geebam==0.1.5) (1.12.0)\n",
            "Requirement already satisfied: httplib2<1dev,>=0.9.2 in /usr/local/lib/python3.6/dist-packages (from earthengine_api>=0.1.87->geebam==0.1.5) (0.11.3)\n",
            "Requirement already satisfied: google-auth-httplib2>=0.0.3 in /usr/local/lib/python3.6/dist-packages (from earthengine_api>=0.1.87->geebam==0.1.5) (0.0.3)\n",
            "Requirement already satisfied: certifi>=2017.4.17 in /usr/local/lib/python3.6/dist-packages (from requests>=2.10.0->geebam==0.1.5) (2019.9.11)\n",
            "Requirement already satisfied: idna<2.9,>=2.5 in /usr/local/lib/python3.6/dist-packages (from requests>=2.10.0->geebam==0.1.5) (2.8)\n",
            "Requirement already satisfied: chardet<3.1.0,>=3.0.2 in /usr/local/lib/python3.6/dist-packages (from requests>=2.10.0->geebam==0.1.5) (3.0.4)\n",
            "Requirement already satisfied: urllib3<1.25,>=1.21.1 in /usr/local/lib/python3.6/dist-packages (from requests>=2.10.0->geebam==0.1.5) (1.24.3)\n",
            "Requirement already satisfied: soupsieve>=1.2 in /usr/local/lib/python3.6/dist-packages (from beautifulsoup4>=4.5.1->geebam==0.1.5) (1.9.4)\n",
            "Requirement already satisfied: py>=1.5.0 in /usr/local/lib/python3.6/dist-packages (from pytest>=3.0.0->geebam==0.1.5) (1.8.0)\n",
            "Requirement already satisfied: pluggy<0.8,>=0.5 in /usr/local/lib/python3.6/dist-packages (from pytest>=3.0.0->geebam==0.1.5) (0.7.1)\n",
            "Requirement already satisfied: more-itertools>=4.0.0 in /usr/local/lib/python3.6/dist-packages (from pytest>=3.0.0->geebam==0.1.5) (7.2.0)\n",
            "Requirement already satisfied: atomicwrites>=1.0 in /usr/local/lib/python3.6/dist-packages (from pytest>=3.0.0->geebam==0.1.5) (1.3.0)\n",
            "Requirement already satisfied: attrs>=17.4.0 in /usr/local/lib/python3.6/dist-packages (from pytest>=3.0.0->geebam==0.1.5) (19.2.0)\n",
            "Requirement already satisfied: setuptools in /usr/local/lib/python3.6/dist-packages (from pytest>=3.0.0->geebam==0.1.5) (41.2.0)\n",
            "Requirement already satisfied: google-resumable-media<0.5.0dev,>=0.3.1 in /usr/local/lib/python3.6/dist-packages (from google-cloud-storage>=1.1.1->geebam==0.1.5) (0.4.1)\n",
            "Requirement already satisfied: google-cloud-core<2.0dev,>=1.0.0 in /usr/local/lib/python3.6/dist-packages (from google-cloud-storage>=1.1.1->geebam==0.1.5) (1.0.3)\n",
            "Requirement already satisfied: uritemplate<4dev,>=3.0.0 in /usr/local/lib/python3.6/dist-packages (from google-api-python-client->earthengine_api>=0.1.87->geebam==0.1.5) (3.0.0)\n",
            "Requirement already satisfied: pyasn1-modules>=0.2.1 in /usr/local/lib/python3.6/dist-packages (from google-auth>=1.4.1->earthengine_api>=0.1.87->geebam==0.1.5) (0.2.6)\n",
            "Requirement already satisfied: cachetools>=2.0.0 in /usr/local/lib/python3.6/dist-packages (from google-auth>=1.4.1->earthengine_api>=0.1.87->geebam==0.1.5) (3.1.1)\n",
            "Requirement already satisfied: rsa>=3.1.4 in /usr/local/lib/python3.6/dist-packages (from google-auth>=1.4.1->earthengine_api>=0.1.87->geebam==0.1.5) (4.0)\n",
            "Requirement already satisfied: google-api-core<2.0.0dev,>=1.14.0 in /usr/local/lib/python3.6/dist-packages (from google-cloud-core<2.0dev,>=1.0.0->google-cloud-storage>=1.1.1->geebam==0.1.5) (1.14.2)\n",
            "Requirement already satisfied: pyasn1<0.5.0,>=0.4.6 in /usr/local/lib/python3.6/dist-packages (from pyasn1-modules>=0.2.1->google-auth>=1.4.1->earthengine_api>=0.1.87->geebam==0.1.5) (0.4.7)\n",
            "Requirement already satisfied: protobuf>=3.4.0 in /usr/local/lib/python3.6/dist-packages (from google-api-core<2.0.0dev,>=1.14.0->google-cloud-core<2.0dev,>=1.0.0->google-cloud-storage>=1.1.1->geebam==0.1.5) (3.7.1)\n",
            "Requirement already satisfied: pytz in /usr/local/lib/python3.6/dist-packages (from google-api-core<2.0.0dev,>=1.14.0->google-cloud-core<2.0dev,>=1.0.0->google-cloud-storage>=1.1.1->geebam==0.1.5) (2018.9)\n",
            "Requirement already satisfied: googleapis-common-protos<2.0dev,>=1.6.0 in /usr/local/lib/python3.6/dist-packages (from google-api-core<2.0.0dev,>=1.14.0->google-cloud-core<2.0dev,>=1.0.0->google-cloud-storage>=1.1.1->geebam==0.1.5) (1.6.0)\n",
            "Installing collected packages: geebam\n",
            "  Running setup.py develop for geebam\n",
            "Successfully installed geebam\n"
          ],
          "name": "stdout"
        }
      ]
    },
    {
      "cell_type": "code",
      "metadata": {
        "id": "vs5mo5aV6KL0",
        "colab_type": "code",
        "outputId": "6264ff17-28f6-4e25-a831-772fe8b53e6b",
        "colab": {
          "base_uri": "https://localhost:8080/",
          "height": 241
        }
      },
      "source": [
        "!earthengine authenticate"
      ],
      "execution_count": 0,
      "outputs": [
        {
          "output_type": "stream",
          "text": [
            "Running command using Cloud API.  Set --no-use_cloud_api to go back to using the API\n",
            "\n",
            "/usr/local/lib/python3.6/dist-packages/IPython/utils/traitlets.py:5: UserWarning: IPython.utils.traitlets has moved to a top-level traitlets package.\n",
            "  warn(\"IPython.utils.traitlets has moved to a top-level traitlets package.\")\n",
            "To authorize access needed by Earth Engine, open the following URL in a web browser and follow the instructions. If the web browser does not start automatically, please manually browse the URL below.\n",
            "\n",
            "    https://accounts.google.com/o/oauth2/auth?client_id=517222506229-vsmmajv00ul0bs7p89v5m89qs8eb9359.apps.googleusercontent.com&scope=https%3A%2F%2Fwww.googleapis.com%2Fauth%2Fearthengine+https%3A%2F%2Fwww.googleapis.com%2Fauth%2Fdevstorage.full_control&redirect_uri=urn%3Aietf%3Awg%3Aoauth%3A2.0%3Aoob&response_type=code\n",
            "\n",
            "The authorization workflow will generate a code, which you should paste in the box below. \n",
            "Enter verification code: 4/rwEggXbj-mJSTP_sGN8zQDz6EiGLMCEgI7LJ0Q5-cEFmbGvWMhpbkO8\n",
            "\n",
            "Successfully saved authorization token.\n"
          ],
          "name": "stdout"
        }
      ]
    },
    {
      "cell_type": "code",
      "metadata": {
        "id": "ogd-9bht6eet",
        "colab_type": "code",
        "outputId": "5aeb77e7-c5c8-47bd-fb8d-66c579d01424",
        "colab": {
          "base_uri": "https://localhost:8080/",
          "height": 68
        }
      },
      "source": [
        "!geeadd quota"
      ],
      "execution_count": 0,
      "outputs": [
        {
          "output_type": "stream",
          "text": [
            "\n",
            "Total Quota: 250 GB\n",
            "Used Quota: 3.05 GB\n"
          ],
          "name": "stdout"
        }
      ]
    },
    {
      "cell_type": "code",
      "metadata": {
        "id": "ksEi_Mq27nOo",
        "colab_type": "code",
        "outputId": "0de25090-1812-446a-938c-11003ebd10be",
        "colab": {
          "base_uri": "https://localhost:8080/",
          "height": 68
        }
      },
      "source": [
        "\n",
        "!geebam delete users/stormwaterheatmap/hydrologyOutput\n",
        "!geebam delete users/stormwaterheatmap/meanQ2\n",
        "!geebam delete users/stormwaterheatmap/meanYrlyQ\n"
      ],
      "execution_count": 0,
      "outputs": [
        {
          "output_type": "stream",
          "text": [
            "2019-10-09 00:39:39,713 :: root :: INFO :: Collection users/stormwaterheatmap/hydrologyOutput removed\n",
            "2019-10-09 00:40:07,413 :: root :: INFO :: Collection users/stormwaterheatmap/meanQ2 removed\n",
            "2019-10-09 00:40:30,604 :: root :: INFO :: Collection users/stormwaterheatmap/meanYrlyQ removed\n"
          ],
          "name": "stdout"
        }
      ]
    },
    {
      "cell_type": "code",
      "metadata": {
        "id": "PW_IcvWk9LCW",
        "colab_type": "code",
        "outputId": "b613af4a-2ed5-4a65-e9be-5d2662b9100b",
        "colab": {
          "base_uri": "https://localhost:8080/",
          "height": 102
        }
      },
      "source": [
        "!geebam delete users/stormwaterheatmap/q*"
      ],
      "execution_count": 0,
      "outputs": [
        {
          "output_type": "stream",
          "text": [
            "2019-10-09 00:40:36,463 :: root :: INFO :: Collection users/stormwaterheatmap/q1980s removed\n",
            "2019-10-09 00:40:37,483 :: root :: INFO :: Collection users/stormwaterheatmap/q1980sbyHRU removed\n",
            "2019-10-09 00:40:38,616 :: root :: INFO :: Collection users/stormwaterheatmap/q2030s removed\n",
            "2019-10-09 00:40:39,687 :: root :: INFO :: Collection users/stormwaterheatmap/q2050s removed\n",
            "2019-10-09 00:40:40,599 :: root :: INFO :: Collection users/stormwaterheatmap/q2080s removed\n"
          ],
          "name": "stdout"
        }
      ]
    }
  ]
}